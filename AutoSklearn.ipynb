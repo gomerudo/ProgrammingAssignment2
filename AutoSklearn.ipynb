{
  "nbformat": 4,
  "nbformat_minor": 0,
  "metadata": {
    "colab": {
      "name": "Hello, Colaboratory",
      "version": "0.3.2",
      "provenance": [],
      "collapsed_sections": [],
      "toc_visible": true,
      "include_colab_link": true
    },
    "kernelspec": {
      "display_name": "Python 3",
      "name": "python3"
    }
  },
  "cells": [
    {
      "cell_type": "markdown",
      "metadata": {
        "id": "view-in-github",
        "colab_type": "text"
      },
      "source": [
        "[View in Colaboratory](https://colab.research.google.com/github/gomerudo/ProgrammingAssignment2/blob/master/AutoSklearn.ipynb)"
      ]
    },
    {
      "metadata": {
        "id": "1fr51oVCHRZU",
        "colab_type": "text"
      },
      "cell_type": "markdown",
      "source": [
        "# AutoML: Metalearning using auto-sklearn"
      ]
    },
    {
      "metadata": {
        "id": "9wi5kfGdhK0R",
        "colab_type": "text"
      },
      "cell_type": "markdown",
      "source": [
        "## Installing the packages"
      ]
    },
    {
      "metadata": {
        "id": "oYZkU7ZN3CL0",
        "colab_type": "code",
        "colab": {}
      },
      "cell_type": "code",
      "source": [
        "# C++ compiler\n",
        "!apt-get install build-essential swig\n",
        "# Installing official requirements\n",
        "!curl https://raw.githubusercontent.com/automl/auto-sklearn/master/requirements.txt | xargs -n 1 -L 1 pip install\n",
        "# Install auto-sklearn\n",
        "!pip install auto-sklearn\n",
        "\n",
        "# OpenML\n",
        "!pip install git+https://github.com/renatopp/liac-arff@master\n",
        "!pip install git+https://github.com/openml/openml-python.git@develop\n"
      ],
      "execution_count": 0,
      "outputs": []
    },
    {
      "metadata": {
        "id": "yv2XIwi5hQ_g",
        "colab_type": "text"
      },
      "cell_type": "markdown",
      "source": [
        "## Fetching a public dataset (fraud)"
      ]
    },
    {
      "metadata": {
        "id": "xqrc5C-IaA5J",
        "colab_type": "code",
        "colab": {}
      },
      "cell_type": "code",
      "source": [
        "import openml as oml\n",
        "from openml import tasks, runs, datasets\n",
        "from sklearn.model_selection import train_test_split\n",
        "\n",
        "\n",
        "dataset = oml.datasets.get_dataset(1597) # fraud data\n",
        "X, y = dataset.get_data(target = dataset.default_target_attribute)\n",
        "\n",
        "X_train, X_val, y_train, y_val = train_test_split(X, y, \n",
        "                                                  train_size = 0.75, \n",
        "                                                  test_size = 0.25)"
      ],
      "execution_count": 0,
      "outputs": []
    },
    {
      "metadata": {
        "id": "LxZ3dPzYnyNF",
        "colab_type": "text"
      },
      "cell_type": "markdown",
      "source": [
        "## Testing auto-sklearn"
      ]
    },
    {
      "metadata": {
        "id": "nz2oefyico3X",
        "colab_type": "code",
        "colab": {}
      },
      "cell_type": "code",
      "source": [
        "import autosklearn.classification\n",
        "\n",
        "cls = autosklearn.classification.AutoSklearnClassifier()\n",
        "print(\"=====================================================================\")\n",
        "print(\"=================== RUNNING AUTO-SKLEARN CLASSIFIER =================\")\n",
        "print(\"=====================================================================\\n\")\n",
        "\n",
        "cls.fit(X_train, y_train)\n"
      ],
      "execution_count": 0,
      "outputs": []
    },
    {
      "metadata": {
        "id": "F9mQPBYxdYYp",
        "colab_type": "text"
      },
      "cell_type": "markdown",
      "source": [
        "## Validation"
      ]
    },
    {
      "metadata": {
        "id": "W5ETFTUodUPZ",
        "colab_type": "code",
        "colab": {}
      },
      "cell_type": "code",
      "source": [
        "from sklearn.metrics import roc_auc_score\n",
        "\n",
        "roc_auc_score(y_val, cls.predict(X_val))"
      ],
      "execution_count": 0,
      "outputs": []
    }
  ]
}